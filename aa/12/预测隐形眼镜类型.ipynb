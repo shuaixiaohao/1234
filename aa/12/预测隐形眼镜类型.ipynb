{
 "cells": [
  {
   "cell_type": "code",
   "execution_count": 1,
   "metadata": {},
   "outputs": [],
   "source": [
    "import numpy as np\n",
    "import pandas as pd\n",
    "from pandas import Series,DataFrame"
   ]
  },
  {
   "cell_type": "code",
   "execution_count": 32,
   "metadata": {},
   "outputs": [],
   "source": [
    "lenses = pd.read_csv('lenses.txt',sep='\\t',header=None)\n",
    "train = lenses.values[:,:4]\n",
    "target = lenses.values[:,4]"
   ]
  },
  {
   "cell_type": "code",
   "execution_count": 14,
   "metadata": {},
   "outputs": [
    {
     "data": {
      "text/plain": [
       "(24, 4)"
      ]
     },
     "execution_count": 14,
     "metadata": {},
     "output_type": "execute_result"
    }
   ],
   "source": [
    "train.shape"
   ]
  },
  {
   "cell_type": "code",
   "execution_count": 16,
   "metadata": {
    "collapsed": true
   },
   "outputs": [
    {
     "data": {
      "text/plain": [
       "array(['no lenses', 'soft', 'no lenses', 'hard', 'no lenses', 'soft',\n",
       "       'no lenses', 'hard', 'no lenses', 'soft', 'no lenses', 'hard',\n",
       "       'no lenses', 'soft', 'no lenses', 'no lenses', 'no lenses',\n",
       "       'no lenses', 'no lenses', 'hard', 'no lenses', 'soft', 'no lenses',\n",
       "       'no lenses'], dtype=object)"
      ]
     },
     "execution_count": 16,
     "metadata": {},
     "output_type": "execute_result"
    }
   ],
   "source": [
    "target"
   ]
  },
  {
   "cell_type": "code",
   "execution_count": 17,
   "metadata": {},
   "outputs": [],
   "source": [
    "from sklearn.neighbors import KNeighborsClassifier\n",
    "from sklearn.linear_model import LogisticRegression\n",
    "from sklearn.tree import DecisionTreeClassifier\n",
    "from sklearn.naive_bayes import GaussianNB,MultinomialNB,BernoulliNB\n",
    "from sklearn.model_selection import train_test_split"
   ]
  },
  {
   "cell_type": "code",
   "execution_count": 33,
   "metadata": {},
   "outputs": [],
   "source": [
    "# 特征之间存在关联性     很高 高 中 矮 很矮  100 10 5 1 0\n",
    "# 特征之间不存在关联性   黑 白  1 0  0 1\n",
    "# OneHotEncoder\n",
    "\n",
    "map_dic = {\n",
    "    'pre':0,\n",
    "    'young':1,\n",
    "    'presbyopic':2,\n",
    "    'hyper':0,\n",
    "    'myope':1,\n",
    "    'reduced':1,\n",
    "    'normal':0\n",
    "}\n",
    "train[:,0] = Series(train[:,0]).map(map_dic)\n",
    "train[:,1] = Series(train[:,1]).map(map_dic)\n",
    "train[:,3] = Series(train[:,3]).map(map_dic)"
   ]
  },
  {
   "cell_type": "code",
   "execution_count": 60,
   "metadata": {
    "collapsed": true
   },
   "outputs": [
    {
     "data": {
      "text/plain": [
       "array([[1, 1, 'no', 1],\n",
       "       [1, 1, 'no', 0],\n",
       "       [1, 1, 'yes', 1],\n",
       "       [1, 1, 'yes', 0],\n",
       "       [1, 0, 'no', 1],\n",
       "       [1, 0, 'no', 0],\n",
       "       [1, 0, 'yes', 1],\n",
       "       [1, 0, 'yes', 0],\n",
       "       [0, 1, 'no', 1],\n",
       "       [0, 1, 'no', 0],\n",
       "       [0, 1, 'yes', 1],\n",
       "       [0, 1, 'yes', 0],\n",
       "       [0, 0, 'no', 1],\n",
       "       [0, 0, 'no', 0],\n",
       "       [0, 0, 'yes', 1],\n",
       "       [0, 0, 'yes', 0],\n",
       "       [2, 1, 'no', 1],\n",
       "       [2, 1, 'no', 0],\n",
       "       [2, 1, 'yes', 1],\n",
       "       [2, 1, 'yes', 0],\n",
       "       [2, 0, 'no', 1],\n",
       "       [2, 0, 'no', 0],\n",
       "       [2, 0, 'yes', 1],\n",
       "       [2, 0, 'yes', 0]], dtype=object)"
      ]
     },
     "execution_count": 60,
     "metadata": {},
     "output_type": "execute_result"
    }
   ],
   "source": [
    "train"
   ]
  },
  {
   "cell_type": "code",
   "execution_count": 35,
   "metadata": {},
   "outputs": [],
   "source": [
    "from sklearn.preprocessing import LabelEncoder\n",
    "from sklearn.preprocessing import OneHotEncoder"
   ]
  },
  {
   "cell_type": "code",
   "execution_count": 57,
   "metadata": {
    "collapsed": true
   },
   "outputs": [
    {
     "data": {
      "text/plain": [
       "array([0, 1, 0, 0, 1, 2, 2, 3], dtype=int32)"
      ]
     },
     "metadata": {},
     "output_type": "display_data"
    },
    {
     "data": {
      "text/plain": [
       "matrix([[1., 0., 0., 0.],\n",
       "        [0., 1., 0., 0.],\n",
       "        [1., 0., 0., 0.],\n",
       "        [1., 0., 0., 0.],\n",
       "        [0., 1., 0., 0.],\n",
       "        [0., 0., 1., 0.],\n",
       "        [0., 0., 1., 0.],\n",
       "        [0., 0., 0., 1.]])"
      ]
     },
     "execution_count": 57,
     "metadata": {},
     "output_type": "execute_result"
    }
   ],
   "source": [
    "n = np.array(['a','b','a','a','b','c','c','d'])\n",
    "label_1 = LabelEncoder()\n",
    "\n",
    "n1 = label_1.fit_transform(n)\n",
    "display(n1)\n",
    "# 0   1 0 0 0\n",
    "# 1   0 1 0 0\n",
    "# 2   0 0 1 0 \n",
    "# 3   0 0 0 1\n",
    "\n",
    "onehot_1 = OneHotEncoder()\n",
    "onehot_1.fit_transform(n1.reshape(-1,1)).todense()"
   ]
  },
  {
   "cell_type": "code",
   "execution_count": 42,
   "metadata": {},
   "outputs": [],
   "source": [
    "label_enc = LabelEncoder()\n",
    "label_data = label_enc.fit_transform(train[:,2])\n",
    "\n",
    "oneHot_enc = OneHotEncoder()\n",
    "train2 = oneHot_enc.fit_transform(label_data.reshape(-1,1)).todense()"
   ]
  },
  {
   "cell_type": "code",
   "execution_count": 62,
   "metadata": {
    "collapsed": true
   },
   "outputs": [
    {
     "data": {
      "text/plain": [
       "matrix([[1., 0.],\n",
       "        [1., 0.],\n",
       "        [0., 1.],\n",
       "        [0., 1.],\n",
       "        [1., 0.],\n",
       "        [1., 0.],\n",
       "        [0., 1.],\n",
       "        [0., 1.],\n",
       "        [1., 0.],\n",
       "        [1., 0.],\n",
       "        [0., 1.],\n",
       "        [0., 1.],\n",
       "        [1., 0.],\n",
       "        [1., 0.],\n",
       "        [0., 1.],\n",
       "        [0., 1.],\n",
       "        [1., 0.],\n",
       "        [1., 0.],\n",
       "        [0., 1.],\n",
       "        [0., 1.],\n",
       "        [1., 0.],\n",
       "        [1., 0.],\n",
       "        [0., 1.],\n",
       "        [0., 1.]])"
      ]
     },
     "execution_count": 62,
     "metadata": {},
     "output_type": "execute_result"
    }
   ],
   "source": [
    "train2"
   ]
  },
  {
   "cell_type": "code",
   "execution_count": 48,
   "metadata": {
    "collapsed": true
   },
   "outputs": [
    {
     "data": {
      "text/plain": [
       "matrix([[1., 0.],\n",
       "        [1., 0.],\n",
       "        [0., 1.],\n",
       "        [0., 1.],\n",
       "        [1., 0.],\n",
       "        [1., 0.],\n",
       "        [0., 1.],\n",
       "        [0., 1.],\n",
       "        [1., 0.],\n",
       "        [1., 0.],\n",
       "        [0., 1.],\n",
       "        [0., 1.],\n",
       "        [1., 0.],\n",
       "        [1., 0.],\n",
       "        [0., 1.],\n",
       "        [0., 1.],\n",
       "        [1., 0.],\n",
       "        [1., 0.],\n",
       "        [0., 1.],\n",
       "        [0., 1.],\n",
       "        [1., 0.],\n",
       "        [1., 0.],\n",
       "        [0., 1.],\n",
       "        [0., 1.]])"
      ]
     },
     "execution_count": 48,
     "metadata": {},
     "output_type": "execute_result"
    }
   ],
   "source": [
    "train[:,0].reshape(-1,1)\n",
    "train2"
   ]
  },
  {
   "cell_type": "code",
   "execution_count": 65,
   "metadata": {
    "collapsed": true
   },
   "outputs": [
    {
     "data": {
      "text/plain": [
       "array([[1],\n",
       "       [1],\n",
       "       [1],\n",
       "       [1],\n",
       "       [1],\n",
       "       [1],\n",
       "       [1],\n",
       "       [1],\n",
       "       [0],\n",
       "       [0],\n",
       "       [0],\n",
       "       [0],\n",
       "       [0],\n",
       "       [0],\n",
       "       [0],\n",
       "       [0],\n",
       "       [2],\n",
       "       [2],\n",
       "       [2],\n",
       "       [2],\n",
       "       [2],\n",
       "       [2],\n",
       "       [2],\n",
       "       [2]], dtype=object)"
      ]
     },
     "execution_count": 65,
     "metadata": {},
     "output_type": "execute_result"
    }
   ],
   "source": [
    "train[:,0].reshape(-1,1)"
   ]
  },
  {
   "cell_type": "code",
   "execution_count": 66,
   "metadata": {
    "collapsed": true
   },
   "outputs": [
    {
     "data": {
      "text/plain": [
       "matrix([[1., 0.],\n",
       "        [1., 0.],\n",
       "        [0., 1.],\n",
       "        [0., 1.],\n",
       "        [1., 0.],\n",
       "        [1., 0.],\n",
       "        [0., 1.],\n",
       "        [0., 1.],\n",
       "        [1., 0.],\n",
       "        [1., 0.],\n",
       "        [0., 1.],\n",
       "        [0., 1.],\n",
       "        [1., 0.],\n",
       "        [1., 0.],\n",
       "        [0., 1.],\n",
       "        [0., 1.],\n",
       "        [1., 0.],\n",
       "        [1., 0.],\n",
       "        [0., 1.],\n",
       "        [0., 1.],\n",
       "        [1., 0.],\n",
       "        [1., 0.],\n",
       "        [0., 1.],\n",
       "        [0., 1.]])"
      ]
     },
     "execution_count": 66,
     "metadata": {},
     "output_type": "execute_result"
    }
   ],
   "source": [
    "train2"
   ]
  },
  {
   "cell_type": "code",
   "execution_count": 49,
   "metadata": {
    "collapsed": true
   },
   "outputs": [
    {
     "data": {
      "text/plain": [
       "matrix([[1, 1, 1, 1.0, 0.0],\n",
       "        [1, 1, 0, 1.0, 0.0],\n",
       "        [1, 1, 1, 0.0, 1.0],\n",
       "        [1, 1, 0, 0.0, 1.0],\n",
       "        [1, 0, 1, 1.0, 0.0],\n",
       "        [1, 0, 0, 1.0, 0.0],\n",
       "        [1, 0, 1, 0.0, 1.0],\n",
       "        [1, 0, 0, 0.0, 1.0],\n",
       "        [0, 1, 1, 1.0, 0.0],\n",
       "        [0, 1, 0, 1.0, 0.0],\n",
       "        [0, 1, 1, 0.0, 1.0],\n",
       "        [0, 1, 0, 0.0, 1.0],\n",
       "        [0, 0, 1, 1.0, 0.0],\n",
       "        [0, 0, 0, 1.0, 0.0],\n",
       "        [0, 0, 1, 0.0, 1.0],\n",
       "        [0, 0, 0, 0.0, 1.0],\n",
       "        [2, 1, 1, 1.0, 0.0],\n",
       "        [2, 1, 0, 1.0, 0.0],\n",
       "        [2, 1, 1, 0.0, 1.0],\n",
       "        [2, 1, 0, 0.0, 1.0],\n",
       "        [2, 0, 1, 1.0, 0.0],\n",
       "        [2, 0, 0, 1.0, 0.0],\n",
       "        [2, 0, 1, 0.0, 1.0],\n",
       "        [2, 0, 0, 0.0, 1.0]], dtype=object)"
      ]
     },
     "execution_count": 49,
     "metadata": {},
     "output_type": "execute_result"
    }
   ],
   "source": [
    "good_train = np.hstack((train[:,0].reshape(-1,1),train[:,1].reshape(-1,1),train[:,3].reshape(-1,1),train2))\n",
    "good_train"
   ]
  },
  {
   "cell_type": "code",
   "execution_count": 50,
   "metadata": {
    "collapsed": true
   },
   "outputs": [
    {
     "data": {
      "text/plain": [
       "array(['no lenses', 'soft', 'no lenses', 'hard', 'no lenses', 'soft',\n",
       "       'no lenses', 'hard', 'no lenses', 'soft', 'no lenses', 'hard',\n",
       "       'no lenses', 'soft', 'no lenses', 'no lenses', 'no lenses',\n",
       "       'no lenses', 'no lenses', 'hard', 'no lenses', 'soft', 'no lenses',\n",
       "       'no lenses'], dtype=object)"
      ]
     },
     "execution_count": 50,
     "metadata": {},
     "output_type": "execute_result"
    }
   ],
   "source": [
    "target"
   ]
  },
  {
   "cell_type": "code",
   "execution_count": 67,
   "metadata": {},
   "outputs": [],
   "source": [
    "X_train,X_test,y_train,y_test = train_test_split(good_train,target,test_size=0.2)"
   ]
  },
  {
   "cell_type": "code",
   "execution_count": 72,
   "metadata": {},
   "outputs": [],
   "source": [
    "def show_train_test_score(model,X_train,X_test,y_train,y_test):\n",
    "    model.fit(X_train,y_train)\n",
    "    train_score = model.score(X_train,y_train)\n",
    "    test_score = model.score(X_test,y_test)\n",
    "    # 获取对象名字\n",
    "    model_name = model.__class__.__name__\n",
    "    \n",
    "    print(\"{}训练集评分是{} 测试集评分是{}\".format(model_name,train_score,test_score))"
   ]
  },
  {
   "cell_type": "code",
   "execution_count": 76,
   "metadata": {},
   "outputs": [
    {
     "name": "stdout",
     "output_type": "stream",
     "text": [
      "KNeighborsClassifier训练集评分是1.0 测试集评分是0.6\n"
     ]
    }
   ],
   "source": [
    "knn = KNeighborsClassifier(n_neighbors=1)\n",
    "show_train_test_score(knn,X_train,X_test,y_train,y_test)"
   ]
  },
  {
   "cell_type": "code",
   "execution_count": 94,
   "metadata": {
    "collapsed": true
   },
   "outputs": [
    {
     "data": {
      "text/plain": [
       "(19, 5)"
      ]
     },
     "execution_count": 94,
     "metadata": {},
     "output_type": "execute_result"
    }
   ],
   "source": [
    "X_train.shape"
   ]
  },
  {
   "cell_type": "code",
   "execution_count": 95,
   "metadata": {
    "collapsed": true
   },
   "outputs": [
    {
     "data": {
      "text/plain": [
       "(5, 5)"
      ]
     },
     "execution_count": 95,
     "metadata": {},
     "output_type": "execute_result"
    }
   ],
   "source": [
    "X_test.shape"
   ]
  },
  {
   "cell_type": "code",
   "execution_count": 93,
   "metadata": {},
   "outputs": [
    {
     "name": "stdout",
     "output_type": "stream",
     "text": [
      "LogisticRegression训练集评分是0.5789473684210527 测试集评分是0.8\n"
     ]
    }
   ],
   "source": [
    "logistic = LogisticRegression(C=0.1)\n",
    "show_train_test_score(logistic,X_train,X_test,y_train,y_test)"
   ]
  },
  {
   "cell_type": "code",
   "execution_count": 101,
   "metadata": {},
   "outputs": [
    {
     "name": "stdout",
     "output_type": "stream",
     "text": [
      "DecisionTreeClassifier训练集评分是0.8947368421052632 测试集评分是0.8\n"
     ]
    }
   ],
   "source": [
    "tree = DecisionTreeClassifier(max_depth=3)\n",
    "show_train_test_score(tree,X_train,X_test,y_train,y_test)"
   ]
  },
  {
   "cell_type": "code",
   "execution_count": 102,
   "metadata": {},
   "outputs": [
    {
     "name": "stdout",
     "output_type": "stream",
     "text": [
      "GaussianNB训练集评分是0.8947368421052632 测试集评分是0.8\n"
     ]
    }
   ],
   "source": [
    "gnb = GaussianNB()\n",
    "show_train_test_score(gnb,X_train,X_test,y_train,y_test)"
   ]
  },
  {
   "cell_type": "code",
   "execution_count": 103,
   "metadata": {},
   "outputs": [
    {
     "name": "stdout",
     "output_type": "stream",
     "text": [
      "MultinomialNB训练集评分是0.8421052631578947 测试集评分是0.8\n"
     ]
    }
   ],
   "source": [
    "mnb = MultinomialNB()\n",
    "show_train_test_score(mnb,X_train,X_test,y_train,y_test)"
   ]
  },
  {
   "cell_type": "code",
   "execution_count": 104,
   "metadata": {},
   "outputs": [
    {
     "name": "stdout",
     "output_type": "stream",
     "text": [
      "BernoulliNB训练集评分是0.8947368421052632 测试集评分是0.8\n"
     ]
    }
   ],
   "source": [
    "bnb = BernoulliNB()\n",
    "show_train_test_score(bnb,X_train,X_test,y_train,y_test)"
   ]
  }
 ],
 "metadata": {
  "kernelspec": {
   "display_name": "Python 3",
   "language": "python",
   "name": "python3"
  },
  "language_info": {
   "codemirror_mode": {
    "name": "ipython",
    "version": 3
   },
   "file_extension": ".py",
   "mimetype": "text/x-python",
   "name": "python",
   "nbconvert_exporter": "python",
   "pygments_lexer": "ipython3",
   "version": "3.6.2"
  }
 },
 "nbformat": 4,
 "nbformat_minor": 2
}
