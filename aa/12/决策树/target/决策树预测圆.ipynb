{
 "cells": [
  {
   "cell_type": "code",
   "execution_count": 1,
   "metadata": {},
   "outputs": [],
   "source": [
    "import numpy as np\n",
    "import pandas as pd\n",
    "from pandas import Series,DataFrame\n",
    "import matplotlib.pyplot as plt\n",
    "%matplotlib inline"
   ]
  },
  {
   "cell_type": "code",
   "execution_count": 23,
   "metadata": {},
   "outputs": [],
   "source": [
    "# 生成一组随机的从-100到100之间的弧度\n",
    "radian = np.sort(np.random.random(100)*200 - 100).reshape(-1,1)"
   ]
  },
  {
   "cell_type": "code",
   "execution_count": 24,
   "metadata": {
    "collapsed": true
   },
   "outputs": [
    {
     "data": {
      "text/plain": [
       "array([[-98.99304523],\n",
       "       [-98.75765784],\n",
       "       [-96.36454752],\n",
       "       [-96.08581187],\n",
       "       [-95.81995453],\n",
       "       [-94.65899247],\n",
       "       [-94.13800322],\n",
       "       [-91.33664451],\n",
       "       [-88.99036441],\n",
       "       [-82.94497611],\n",
       "       [-80.93508048],\n",
       "       [-80.31448763],\n",
       "       [-79.30799824],\n",
       "       [-76.8006479 ],\n",
       "       [-75.0678364 ],\n",
       "       [-72.23920013],\n",
       "       [-71.89868229],\n",
       "       [-58.78829553],\n",
       "       [-58.17502498],\n",
       "       [-53.00733663],\n",
       "       [-52.26479661],\n",
       "       [-51.07735917],\n",
       "       [-47.83647437],\n",
       "       [-46.75813642],\n",
       "       [-43.45304834],\n",
       "       [-40.18916624],\n",
       "       [-38.85523328],\n",
       "       [-38.34663353],\n",
       "       [-37.29304624],\n",
       "       [-36.67748114],\n",
       "       [-36.15648967],\n",
       "       [-34.36784728],\n",
       "       [-32.5674477 ],\n",
       "       [-27.87552904],\n",
       "       [-26.97543441],\n",
       "       [-25.82235254],\n",
       "       [-25.73042869],\n",
       "       [-23.59945526],\n",
       "       [-23.58031277],\n",
       "       [-19.80637333],\n",
       "       [-18.36543596],\n",
       "       [-17.85761882],\n",
       "       [-17.48289306],\n",
       "       [-12.03139121],\n",
       "       [ -9.65801571],\n",
       "       [ -9.06642991],\n",
       "       [ -8.44754814],\n",
       "       [ -7.53186768],\n",
       "       [ -5.00129393],\n",
       "       [ -2.22566884],\n",
       "       [  0.96874533],\n",
       "       [  1.44215837],\n",
       "       [  2.52459559],\n",
       "       [  2.59949557],\n",
       "       [  3.1692069 ],\n",
       "       [  7.47141974],\n",
       "       [ 15.11796064],\n",
       "       [ 15.59635873],\n",
       "       [ 21.27136268],\n",
       "       [ 23.46476661],\n",
       "       [ 24.30734662],\n",
       "       [ 29.59800203],\n",
       "       [ 33.15813937],\n",
       "       [ 34.03040228],\n",
       "       [ 37.67082292],\n",
       "       [ 39.05599805],\n",
       "       [ 44.48688591],\n",
       "       [ 46.02219139],\n",
       "       [ 46.23663688],\n",
       "       [ 47.19564723],\n",
       "       [ 48.35228673],\n",
       "       [ 49.01562874],\n",
       "       [ 49.76452256],\n",
       "       [ 56.96981889],\n",
       "       [ 61.05951709],\n",
       "       [ 61.0609382 ],\n",
       "       [ 62.03006072],\n",
       "       [ 62.2850619 ],\n",
       "       [ 62.72899123],\n",
       "       [ 65.73687556],\n",
       "       [ 66.0256275 ],\n",
       "       [ 66.08801075],\n",
       "       [ 66.63897009],\n",
       "       [ 67.35559083],\n",
       "       [ 67.43675388],\n",
       "       [ 70.31152171],\n",
       "       [ 70.65836225],\n",
       "       [ 72.3391595 ],\n",
       "       [ 86.13968777],\n",
       "       [ 87.5658583 ],\n",
       "       [ 88.38183811],\n",
       "       [ 88.67545684],\n",
       "       [ 88.91230099],\n",
       "       [ 90.12301464],\n",
       "       [ 90.15414622],\n",
       "       [ 90.50399942],\n",
       "       [ 91.10749525],\n",
       "       [ 95.61987245],\n",
       "       [ 97.38462127],\n",
       "       [ 99.63416333]])"
      ]
     },
     "execution_count": 24,
     "metadata": {},
     "output_type": "execute_result"
    }
   ],
   "source": [
    "radian"
   ]
  },
  {
   "cell_type": "code",
   "execution_count": 14,
   "metadata": {
    "collapsed": true
   },
   "outputs": [
    {
     "data": {
      "text/plain": [
       "array([319.27510079,  80.0207971 , 279.20242253, 340.79187366,\n",
       "       132.46648103, 164.65548428,  27.97410994, 255.28312654,\n",
       "       222.56874208, 190.51916651,  74.65857427,  92.93494054,\n",
       "       121.46036064, 355.82869998, 129.18520984,  69.42407497,\n",
       "        68.9488963 , 348.05707224, 193.53161007, 285.2526027 ,\n",
       "       138.84315008, 350.76092403,  83.82651391, 128.49000939,\n",
       "       215.28529363, 216.20414279, 294.98542116, 122.11944053,\n",
       "       119.22169879, 228.00784021, 238.06039411, 345.94520061,\n",
       "       216.14431212, 321.50308324, 181.02488212, 216.76364296,\n",
       "       236.52809764, 245.50939282, 144.63641319, 288.78253132,\n",
       "        48.18335174,  91.81560302, 333.36142818, 219.17655393,\n",
       "       171.79630713, 137.11584668, 103.27727369, 285.90412959,\n",
       "       301.53316826,  71.96768231, 129.47116507, 129.91170755,\n",
       "       291.54011198,  81.52751097, 171.25950932, 262.92077097,\n",
       "       124.23183605, 204.85410632, 326.04708483,  94.79967115,\n",
       "       116.95721216, 138.54490505, 173.63791707,  23.13301269,\n",
       "       201.11988158, 310.75740594, 204.99721581, 344.52602858,\n",
       "         9.19810297, 359.22381417, 195.68803768, 125.16879347,\n",
       "       230.94489469, 102.6228411 , 103.66890632, 179.39009168,\n",
       "        19.16745109,  48.34696776,  81.25922927,  37.25049986,\n",
       "       134.83951452, 138.78406249, 295.6218049 , 190.18786279,\n",
       "        59.45999112, 105.30670378, 120.52085013,  83.98811577,\n",
       "        47.73184016, 281.9293417 , 302.32497496,   2.82808871,\n",
       "       149.99112359,  37.42241077, 210.48699048, 292.67545832,\n",
       "       328.72729856,  51.58560355, 101.6641588 , 177.85018735])"
      ]
     },
     "execution_count": 14,
     "metadata": {},
     "output_type": "execute_result"
    }
   ],
   "source": [
    "angle = (radian*360/np.pi*2)%360\n",
    "angle"
   ]
  },
  {
   "cell_type": "code",
   "execution_count": 25,
   "metadata": {
    "collapsed": true
   },
   "outputs": [
    {
     "data": {
      "text/plain": [
       "<matplotlib.collections.PathCollection at 0x1316fa30>"
      ]
     },
     "execution_count": 25,
     "metadata": {},
     "output_type": "execute_result"
    },
    {
     "data": {
      "image/png": "[encoded data removed]",
      "text/plain": [
       "<matplotlib.figure.Figure at 0x1312de90>"
      ]
     },
     "metadata": {},
     "output_type": "display_data"
    }
   ],
   "source": [
    "x = np.cos(radian)\n",
    "y = np.sin(radian)\n",
    "\n",
    "target = np.c_[x,y]\n",
    "plt.axis('equal')\n",
    "plt.scatter(x,y)"
   ]
  },
  {
   "cell_type": "code",
   "execution_count": 21,
   "metadata": {
    "collapsed": true
   },
   "outputs": [
    {
     "data": {
      "text/plain": [
       "array([[-0.98425358,  0.17676222],\n",
       "       [ 0.34210541, -0.93966158],\n",
       "       [ 0.34528828,  0.93849667],\n",
       "       [ 0.08371318,  0.99648989],\n",
       "       [ 0.83756027,  0.54634494],\n",
       "       [ 0.75283011,  0.65821488],\n",
       "       [-0.12175722,  0.99255991],\n",
       "       [-0.89741845,  0.44118038],\n",
       "       [ 0.82552925, -0.56435934],\n",
       "       [ 0.73880585, -0.67391833],\n",
       "       [-0.94740794, -0.32002842],\n",
       "       [-0.91890323, -0.39448302],\n",
       "       [-0.86282183, -0.50550815],\n",
       "       [-0.01819973, -0.99983437],\n",
       "       [ 0.5342978 , -0.84529632],\n",
       "       [-0.9544696 , -0.29830821],\n",
       "       [ 0.95508604,  0.29632862],\n",
       "       [ 0.05208727,  0.99864254],\n",
       "       [-0.74759994,  0.66414933],\n",
       "       [-0.32039558, -0.94728384],\n",
       "       [-0.5694343 ,  0.82203684],\n",
       "       [-0.04030216, -0.99918754],\n",
       "       [ 0.35766115, -0.93385143],\n",
       "       [-0.53173124,  0.84691315],\n",
       "       [-0.80718006,  0.59030531],\n",
       "       [-0.80954024,  0.58706439],\n",
       "       [-0.27989008, -0.96003205],\n",
       "       [ 0.50798734, -0.86136454],\n",
       "       [ 0.8677184 ,  0.49705612],\n",
       "       [-0.54461034, -0.8386892 ],\n",
       "       [-0.50731129, -0.86176288],\n",
       "       [-0.0612872 , -0.99812017],\n",
       "       [ 0.80938695, -0.58727571],\n",
       "       [ 0.98592543, -0.16718569],\n",
       "       [-0.70393762, -0.71026181],\n",
       "       [-0.58508633, -0.81097101],\n",
       "       [-0.51306157, -0.85835181],\n",
       "       [-0.87779366,  0.47903893],\n",
       "       [-0.80738167, -0.59002952],\n",
       "       [ 0.30576788,  0.95210609],\n",
       "       [-0.20869416,  0.97798095],\n",
       "       [-0.38999038,  0.92081893],\n",
       "       [-0.99325258,  0.11597116],\n",
       "       [-0.57651591, -0.81708592],\n",
       "       [-0.68134808,  0.73195956],\n",
       "       [-0.82630516, -0.56322268],\n",
       "       [ 0.90017197,  0.43553464],\n",
       "       [ 0.94819084, -0.31770133],\n",
       "       [ 0.96763562, -0.25235154],\n",
       "       [-0.95110008, -0.30888288],\n",
       "       [ 0.53535207, -0.84462901],\n",
       "       [ 0.53697465, -0.84359838],\n",
       "       [-0.95571615,  0.29429007],\n",
       "       [-0.93739219, -0.34827557],\n",
       "       [ 0.73355342,  0.6796318 ],\n",
       "       [ 0.41103403,  0.91162   ],\n",
       "       [-0.5159049 ,  0.85664586],\n",
       "       [-0.77948587,  0.62641981],\n",
       "       [-0.14760622, -0.98904621],\n",
       "       [ 0.91566317,  0.40194646],\n",
       "       [ 0.87258722,  0.48845834],\n",
       "       [-0.56836407,  0.82277717],\n",
       "       [-0.72646099, -0.68720771],\n",
       "       [ 0.1007655 , -0.9949102 ],\n",
       "       [-0.76917621,  0.63903675],\n",
       "       [ 0.97700597, -0.21321197],\n",
       "       [ 0.62593295,  0.77987688],\n",
       "       [-0.06746665, -0.99772153],\n",
       "       [ 0.04012352, -0.99919473],\n",
       "       [ 0.99999426, -0.00338674],\n",
       "       [ 0.65708573,  0.75381586],\n",
       "       [-0.51940276,  0.85452956],\n",
       "       [-0.84559949,  0.53381785],\n",
       "       [ 0.43296242, -0.90141197],\n",
       "       [ 0.89942641,  0.43707223],\n",
       "       [-0.70522251,  0.70898605],\n",
       "       [-0.99650473, -0.08353632],\n",
       "       [-0.97783172, -0.2093923 ],\n",
       "       [-0.93779924, -0.34717802],\n",
       "       [ 0.16182127, -0.98682008],\n",
       "       [ 0.55498786, -0.83185845],\n",
       "       [ 0.56922235, -0.82218363],\n",
       "       [ 0.27722324,  0.96080553],\n",
       "       [-0.73783087,  0.67498563],\n",
       "       [-0.25654238,  0.96653298],\n",
       "       [-0.89628005, -0.44348853],\n",
       "       [-0.86488685, -0.50196687],\n",
       "       [ 0.35831954, -0.93359901],\n",
       "       [ 0.9783902 ,  0.20676705],\n",
       "       [-0.94253853,  0.33409746],\n",
       "       [ 0.24900695,  0.9685017 ],\n",
       "       [-0.99992386, -0.01233955],\n",
       "       [ 0.79337692,  0.6087307 ],\n",
       "       [-0.16256144,  0.98669842],\n",
       "       [-0.7946451 ,  0.60707426],\n",
       "       [-0.95716229,  0.28955198],\n",
       "       [ 0.99070474, -0.13602985],\n",
       "       [ 0.22318888, -0.97477522],\n",
       "       [ 0.429188  , -0.90321518],\n",
       "       [ 0.70044288, -0.71370847]])"
      ]
     },
     "execution_count": 21,
     "metadata": {},
     "output_type": "execute_result"
    }
   ],
   "source": [
    "target"
   ]
  },
  {
   "cell_type": "code",
   "execution_count": 30,
   "metadata": {},
   "outputs": [],
   "source": [
    "# 生成从-100，100之间的一组有序弧度作为测试数据\n",
    "X_test = np.linspace(-100,100,100).reshape(-1,1)"
   ]
  },
  {
   "cell_type": "code",
   "execution_count": 31,
   "metadata": {},
   "outputs": [],
   "source": [
    "from sklearn.tree import DecisionTreeRegressor\n",
    "\n",
    "tree1 = DecisionTreeRegressor(max_depth=1)\n",
    "tree2 = DecisionTreeRegressor(max_depth=5)\n",
    "tree3 = DecisionTreeRegressor(max_depth=15)\n",
    "\n",
    "tree1.fit(radian,target)\n",
    "tree2.fit(radian,target)\n",
    "tree3.fit(radian,target)\n",
    "\n",
    "y1_ = tree1.predict(X_test)\n",
    "y2_ = tree2.predict(X_test)\n",
    "y3_ = tree3.predict(X_test)"
   ]
  },
  {
   "cell_type": "code",
   "execution_count": 32,
   "metadata": {
    "collapsed": true
   },
   "outputs": [
    {
     "data": {
      "text/plain": [
       "array([[-0.00661607, -0.21411891],\n",
       "       [-0.00661607, -0.21411891],\n",
       "       [-0.00661607, -0.21411891],\n",
       "       [-0.00661607, -0.21411891],\n",
       "       [-0.00661607, -0.21411891],\n",
       "       [-0.00661607, -0.21411891],\n",
       "       [-0.00661607, -0.21411891],\n",
       "       [-0.00661607, -0.21411891],\n",
       "       [-0.00661607, -0.21411891],\n",
       "       [-0.00661607, -0.21411891],\n",
       "       [-0.00661607, -0.21411891],\n",
       "       [-0.00661607, -0.21411891],\n",
       "       [-0.00661607, -0.21411891],\n",
       "       [-0.00661607, -0.21411891],\n",
       "       [-0.00661607, -0.21411891],\n",
       "       [-0.00661607, -0.21411891],\n",
       "       [-0.00661607, -0.21411891],\n",
       "       [-0.00661607, -0.21411891],\n",
       "       [-0.00661607, -0.21411891],\n",
       "       [-0.00661607, -0.21411891],\n",
       "       [-0.00661607, -0.21411891],\n",
       "       [-0.00661607, -0.21411891],\n",
       "       [-0.00661607, -0.21411891],\n",
       "       [-0.00661607, -0.21411891],\n",
       "       [-0.00661607, -0.21411891],\n",
       "       [-0.00661607, -0.21411891],\n",
       "       [-0.00661607, -0.21411891],\n",
       "       [-0.00661607, -0.21411891],\n",
       "       [-0.00661607, -0.21411891],\n",
       "       [-0.00661607, -0.21411891],\n",
       "       [-0.00661607, -0.21411891],\n",
       "       [-0.00661607, -0.21411891],\n",
       "       [-0.00661607, -0.21411891],\n",
       "       [-0.00661607, -0.21411891],\n",
       "       [-0.00661607, -0.21411891],\n",
       "       [-0.00661607, -0.21411891],\n",
       "       [-0.00661607, -0.21411891],\n",
       "       [-0.00661607, -0.21411891],\n",
       "       [-0.08202161,  0.09815435],\n",
       "       [-0.08202161,  0.09815435],\n",
       "       [-0.08202161,  0.09815435],\n",
       "       [-0.08202161,  0.09815435],\n",
       "       [-0.08202161,  0.09815435],\n",
       "       [-0.08202161,  0.09815435],\n",
       "       [-0.08202161,  0.09815435],\n",
       "       [-0.08202161,  0.09815435],\n",
       "       [-0.08202161,  0.09815435],\n",
       "       [-0.08202161,  0.09815435],\n",
       "       [-0.08202161,  0.09815435],\n",
       "       [-0.08202161,  0.09815435],\n",
       "       [-0.08202161,  0.09815435],\n",
       "       [-0.08202161,  0.09815435],\n",
       "       [-0.08202161,  0.09815435],\n",
       "       [-0.08202161,  0.09815435],\n",
       "       [-0.08202161,  0.09815435],\n",
       "       [-0.08202161,  0.09815435],\n",
       "       [-0.08202161,  0.09815435],\n",
       "       [-0.08202161,  0.09815435],\n",
       "       [-0.08202161,  0.09815435],\n",
       "       [-0.08202161,  0.09815435],\n",
       "       [-0.08202161,  0.09815435],\n",
       "       [-0.08202161,  0.09815435],\n",
       "       [-0.08202161,  0.09815435],\n",
       "       [-0.08202161,  0.09815435],\n",
       "       [-0.08202161,  0.09815435],\n",
       "       [-0.08202161,  0.09815435],\n",
       "       [-0.08202161,  0.09815435],\n",
       "       [-0.08202161,  0.09815435],\n",
       "       [-0.08202161,  0.09815435],\n",
       "       [-0.08202161,  0.09815435],\n",
       "       [-0.08202161,  0.09815435],\n",
       "       [-0.08202161,  0.09815435],\n",
       "       [-0.08202161,  0.09815435],\n",
       "       [-0.08202161,  0.09815435],\n",
       "       [-0.08202161,  0.09815435],\n",
       "       [-0.08202161,  0.09815435],\n",
       "       [-0.08202161,  0.09815435],\n",
       "       [-0.08202161,  0.09815435],\n",
       "       [-0.08202161,  0.09815435],\n",
       "       [-0.08202161,  0.09815435],\n",
       "       [-0.08202161,  0.09815435],\n",
       "       [-0.08202161,  0.09815435],\n",
       "       [-0.08202161,  0.09815435],\n",
       "       [-0.08202161,  0.09815435],\n",
       "       [-0.08202161,  0.09815435],\n",
       "       [-0.08202161,  0.09815435],\n",
       "       [-0.08202161,  0.09815435],\n",
       "       [-0.08202161,  0.09815435],\n",
       "       [-0.08202161,  0.09815435],\n",
       "       [-0.08202161,  0.09815435],\n",
       "       [-0.08202161,  0.09815435],\n",
       "       [-0.08202161,  0.09815435],\n",
       "       [-0.08202161,  0.09815435],\n",
       "       [-0.08202161,  0.09815435],\n",
       "       [-0.08202161,  0.09815435],\n",
       "       [-0.08202161,  0.09815435],\n",
       "       [-0.08202161,  0.09815435],\n",
       "       [-0.08202161,  0.09815435],\n",
       "       [-0.08202161,  0.09815435],\n",
       "       [-0.08202161,  0.09815435]])"
      ]
     },
     "execution_count": 32,
     "metadata": {},
     "output_type": "execute_result"
    }
   ],
   "source": [
    "y1_"
   ]
  },
  {
   "cell_type": "code",
   "execution_count": 35,
   "metadata": {
    "collapsed": true
   },
   "outputs": [
    {
     "data": {
      "text/plain": [
       "Text(0.5,1,'max_dpth=15')"
      ]
     },
     "execution_count": 35,
     "metadata": {},
     "output_type": "execute_result"
    },
    {
     "data": {
      "image/png": "[encoded data removed]",
      "text/plain": [
       "<matplotlib.figure.Figure at 0x14b1e6f0>"
      ]
     },
     "metadata": {},
     "output_type": "display_data"
    }
   ],
   "source": [
    "plt.figure(figsize=(12,4))\n",
    "\n",
    "axs1 = plt.subplot(131)\n",
    "axs1.scatter(y1_[:,0],y1_[:,1])\n",
    "axs1.set_title('max_dpth=1')\n",
    "\n",
    "axs2 = plt.subplot(132)\n",
    "axs2.scatter(y2_[:,0],y2_[:,1])\n",
    "axs2.set_title('max_dpth=5')\n",
    "\n",
    "axs3 = plt.subplot(133)\n",
    "axs3.scatter(y3_[:,0],y3_[:,1])\n",
    "axs3.set_title('max_dpth=15')"
   ]
  }
 ],
 "metadata": {
  "kernelspec": {
   "display_name": "Python 3",
   "language": "python",
   "name": "python3"
  },
  "language_info": {
   "codemirror_mode": {
    "name": "ipython",
    "version": 3
   },
   "file_extension": ".py",
   "mimetype": "text/x-python",
   "name": "python",
   "nbconvert_exporter": "python",
   "pygments_lexer": "ipython3",
   "version": "3.6.2"
  }
 },
 "nbformat": 4,
 "nbformat_minor": 2
}
