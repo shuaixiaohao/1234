{
 "cells": [
  {
   "cell_type": "code",
   "execution_count": 1,
   "metadata": {},
   "outputs": [],
   "source": [
    "import numpy as np\n",
    "import pandas as pd\n",
    "from pandas import Series,DataFrame\n",
    "import matplotlib.pyplot as plt\n",
    "%matplotlib inline\n",
    "\n",
    "# 选择算法模型\n",
    "# KNeighborsClassifier分类模型，可以处理分类问题\n",
    "from sklearn.neighbors import KNeighborsClassifier"
   ]
  },
  {
   "cell_type": "code",
   "execution_count": 3,
   "metadata": {
    "collapsed": true
   },
   "outputs": [
    {
     "data": {
      "text/html": [
       "<div>\n",
       "<style scoped>\n",
       "    .dataframe tbody tr th:only-of-type {\n",
       "        vertical-align: middle;\n",
       "    }\n",
       "\n",
       "    .dataframe tbody tr th {\n",
       "        vertical-align: top;\n",
       "    }\n",
       "\n",
       "    .dataframe thead th {\n",
       "        text-align: right;\n",
       "    }\n",
       "</style>\n",
       "<table border=\"1\" class=\"dataframe\">\n",
       "  <thead>\n",
       "    <tr style=\"text-align: right;\">\n",
       "      <th></th>\n",
       "      <th>电影名称</th>\n",
       "      <th>动作镜头</th>\n",
       "      <th>谈情镜头</th>\n",
       "      <th>类别</th>\n",
       "    </tr>\n",
       "  </thead>\n",
       "  <tbody>\n",
       "    <tr>\n",
       "      <th>0</th>\n",
       "      <td>前任攻略3</td>\n",
       "      <td>很少</td>\n",
       "      <td>多</td>\n",
       "      <td>爱情</td>\n",
       "    </tr>\n",
       "    <tr>\n",
       "      <th>1</th>\n",
       "      <td>笑傲江湖</td>\n",
       "      <td>很多</td>\n",
       "      <td>很少</td>\n",
       "      <td>动作</td>\n",
       "    </tr>\n",
       "    <tr>\n",
       "      <th>2</th>\n",
       "      <td>战狼2</td>\n",
       "      <td>很多</td>\n",
       "      <td>很少</td>\n",
       "      <td>动作</td>\n",
       "    </tr>\n",
       "    <tr>\n",
       "      <th>3</th>\n",
       "      <td>复仇联盟</td>\n",
       "      <td>很多</td>\n",
       "      <td>很少</td>\n",
       "      <td>动作</td>\n",
       "    </tr>\n",
       "    <tr>\n",
       "      <th>4</th>\n",
       "      <td>星愿</td>\n",
       "      <td>很多</td>\n",
       "      <td>很少</td>\n",
       "      <td>爱情</td>\n",
       "    </tr>\n",
       "    <tr>\n",
       "      <th>5</th>\n",
       "      <td>心花路放</td>\n",
       "      <td>少</td>\n",
       "      <td>多</td>\n",
       "      <td>爱情</td>\n",
       "    </tr>\n",
       "    <tr>\n",
       "      <th>6</th>\n",
       "      <td>七月与安生</td>\n",
       "      <td>少</td>\n",
       "      <td>多</td>\n",
       "      <td>爱情</td>\n",
       "    </tr>\n",
       "    <tr>\n",
       "      <th>7</th>\n",
       "      <td>他是龙</td>\n",
       "      <td>很少</td>\n",
       "      <td>多</td>\n",
       "      <td>爱情</td>\n",
       "    </tr>\n",
       "    <tr>\n",
       "      <th>8</th>\n",
       "      <td>红海行动</td>\n",
       "      <td>很多</td>\n",
       "      <td>少</td>\n",
       "      <td>动作</td>\n",
       "    </tr>\n",
       "  </tbody>\n",
       "</table>\n",
       "</div>"
      ],
      "text/plain": [
       "    电影名称 动作镜头 谈情镜头  类别\n",
       "0  前任攻略3   很少    多  爱情\n",
       "1   笑傲江湖   很多   很少  动作\n",
       "2    战狼2   很多   很少  动作\n",
       "3   复仇联盟   很多   很少  动作\n",
       "4     星愿   很多   很少  爱情\n",
       "5   心花路放    少    多  爱情\n",
       "6  七月与安生    少    多  爱情\n",
       "7    他是龙   很少    多  爱情\n",
       "8   红海行动   很多    少  动作"
      ]
     },
     "execution_count": 3,
     "metadata": {},
     "output_type": "execute_result"
    }
   ],
   "source": [
    "# 获取数据\n",
    "samples = pd.read_excel('films.xlsx',sheet_name=1)\n",
    "samples"
   ]
  },
  {
   "cell_type": "code",
   "execution_count": 18,
   "metadata": {},
   "outputs": [],
   "source": [
    "# 如果特征值之间存在大小关系，可以使用符合业务逻辑的数据来进行映射处理\n",
    "map_dic = {\n",
    "    '很多':8,\n",
    "    '多':6,\n",
    "    '少':3,\n",
    "    '很少':1\n",
    "}\n",
    "# 获取特征集合和标签集合\n",
    "train = samples[['动作镜头','谈情镜头']].copy()\n",
    "target = samples['类别']\n",
    "\n",
    "train['动作镜头'] = train['动作镜头'].map(map_dic)\n",
    "train['谈情镜头'] = train['谈情镜头'].map(map_dic)"
   ]
  },
  {
   "cell_type": "code",
   "execution_count": 19,
   "metadata": {},
   "outputs": [
    {
     "data": {
      "text/plain": [
       "KNeighborsClassifier(algorithm='auto', leaf_size=30, metric='minkowski',\n",
       "           metric_params=None, n_jobs=1, n_neighbors=3, p=2,\n",
       "           weights='uniform')"
      ]
     },
     "execution_count": 19,
     "metadata": {},
     "output_type": "execute_result"
    }
   ],
   "source": [
    "knn = KNeighborsClassifier(n_neighbors=3)\n",
    "knn.fit(train,target)"
   ]
  },
  {
   "cell_type": "code",
   "execution_count": 20,
   "metadata": {},
   "outputs": [
    {
     "data": {
      "text/plain": [
       "array(['动作', '爱情'], dtype=object)"
      ]
     },
     "execution_count": 20,
     "metadata": {},
     "output_type": "execute_result"
    }
   ],
   "source": [
    "X_test = DataFrame([['很多','少'],['少','多']])\n",
    "\n",
    "X_test.iloc[0] = X_test.iloc[0].map(map_dic)\n",
    "X_test.iloc[1] = X_test.iloc[1].map(map_dic)\n",
    "X_test\n",
    "knn.predict(X_test)"
   ]
  },
  {
   "cell_type": "code",
   "execution_count": 49,
   "metadata": {},
   "outputs": [
    {
     "data": {
      "text/plain": [
       "array(['red', 'green', 'blue'], dtype=object)"
      ]
     },
     "execution_count": 49,
     "metadata": {},
     "output_type": "execute_result"
    }
   ],
   "source": [
    "# 如果数据特征值之间不存在大小关系，比如红黄蓝三种颜色\n",
    "\n",
    "colors = Series(['red','green','blue'])\n",
    "\n",
    "# 标签转数字是利用原始数据的去重数组中的索引来处理的\n",
    "colors.unique()\n",
    "\n",
    "# 了解独热编码的转换思路\n",
    "# def map_colors(x):\n",
    "#     if x == 'red':\n",
    "#         return np.array([1,0,0])\n",
    "#     elif x == 'green':\n",
    "#         return np.array([0,1,0])\n",
    "#     else:\n",
    "#         return np.array([0,0,1])\n",
    "    \n",
    "# DataFrame(colors.map(map_colors))[0]"
   ]
  },
  {
   "cell_type": "code",
   "execution_count": 44,
   "metadata": {},
   "outputs": [],
   "source": [
    "# 标签编码\n",
    "from sklearn.preprocessing import LabelEncoder\n",
    "from sklearn.preprocessing import OneHotEncoder"
   ]
  },
  {
   "cell_type": "code",
   "execution_count": 50,
   "metadata": {
    "collapsed": true
   },
   "outputs": [
    {
     "data": {
      "text/plain": [
       "array([2, 1, 0], dtype=int32)"
      ]
     },
     "metadata": {},
     "output_type": "display_data"
    },
    {
     "data": {
      "text/html": [
       "<div>\n",
       "<style scoped>\n",
       "    .dataframe tbody tr th:only-of-type {\n",
       "        vertical-align: middle;\n",
       "    }\n",
       "\n",
       "    .dataframe tbody tr th {\n",
       "        vertical-align: top;\n",
       "    }\n",
       "\n",
       "    .dataframe thead th {\n",
       "        text-align: right;\n",
       "    }\n",
       "</style>\n",
       "<table border=\"1\" class=\"dataframe\">\n",
       "  <thead>\n",
       "    <tr style=\"text-align: right;\">\n",
       "      <th></th>\n",
       "      <th>0</th>\n",
       "      <th>1</th>\n",
       "      <th>2</th>\n",
       "    </tr>\n",
       "  </thead>\n",
       "  <tbody>\n",
       "    <tr>\n",
       "      <th>0</th>\n",
       "      <td>0.0</td>\n",
       "      <td>0.0</td>\n",
       "      <td>1.0</td>\n",
       "    </tr>\n",
       "    <tr>\n",
       "      <th>1</th>\n",
       "      <td>0.0</td>\n",
       "      <td>1.0</td>\n",
       "      <td>0.0</td>\n",
       "    </tr>\n",
       "    <tr>\n",
       "      <th>2</th>\n",
       "      <td>1.0</td>\n",
       "      <td>0.0</td>\n",
       "      <td>0.0</td>\n",
       "    </tr>\n",
       "  </tbody>\n",
       "</table>\n",
       "</div>"
      ],
      "text/plain": [
       "     0    1    2\n",
       "0  0.0  0.0  1.0\n",
       "1  0.0  1.0  0.0\n",
       "2  1.0  0.0  0.0"
      ]
     },
     "execution_count": 50,
     "metadata": {},
     "output_type": "execute_result"
    }
   ],
   "source": [
    "# 构建一个编码转换器\n",
    "label_enc = LabelEncoder()\n",
    "# 把要转换的文本信息替换成数字\n",
    "label_code = label_enc.fit_transform(colors)\n",
    "display(label_code)\n",
    "\n",
    "# 构建独热编码转换器\n",
    "onehot_enc = OneHotEncoder()\n",
    "# 再对已经进行过数字编码的集合进行转码\n",
    "# todense()函数用于读取转换后的矩阵内容\n",
    "matrix_data = onehot_enc.fit_transform(label_code.reshape(-1,1)).todense()\n",
    "\n",
    "# 可以直接对矩阵对象进行各种数据类型的转换\n",
    "DataFrame(matrix_data)"
   ]
  },
  {
   "cell_type": "markdown",
   "metadata": {},
   "source": [
    "总结：\n",
    "1. 存在大小关系的非数值特征   用逻辑字典进行映射处理\n",
    "2. 不存在大小关系的非数值特征 LabelEncoder、OneHotEncoder进行独热编码"
   ]
  }
 ],
 "metadata": {
  "kernelspec": {
   "display_name": "Python 3",
   "language": "python",
   "name": "python3"
  },
  "language_info": {
   "codemirror_mode": {
    "name": "ipython",
    "version": 3
   },
   "file_extension": ".py",
   "mimetype": "text/x-python",
   "name": "python",
   "nbconvert_exporter": "python",
   "pygments_lexer": "ipython3",
   "version": "3.6.2"
  }
 },
 "nbformat": 4,
 "nbformat_minor": 2
}
