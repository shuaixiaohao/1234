{
 "cells": [
  {
   "cell_type": "markdown",
   "metadata": {},
   "source": [
    "# 城市气候与海洋的关系研究"
   ]
  },
  {
   "cell_type": "markdown",
   "metadata": {},
   "source": [
    "导入包"
   ]
  },
  {
   "cell_type": "code",
   "execution_count": 1,
   "metadata": {},
   "outputs": [],
   "source": [
    "import numpy as np\n",
    "import pandas as pd\n",
    "from pandas import Series,DataFrame\n",
    "import matplotlib.pyplot as plt\n",
    "%matplotlib inline"
   ]
  },
  {
   "cell_type": "markdown",
   "metadata": {},
   "source": [
    "导入数据各个海滨城市数据"
   ]
  },
  {
   "cell_type": "code",
   "execution_count": 2,
   "metadata": {},
   "outputs": [],
   "source": [
    "ferrara1 = pd.read_csv('./ferrara_150715.csv')\n",
    "ferrara2 = pd.read_csv('./ferrara_250715.csv')\n",
    "ferrara3 = pd.read_csv('./ferrara_270615.csv')\n",
    "ferrara = pd.concat([ferrara1,ferrara2,ferrara3],ignore_index=True) "
   ]
  },
  {
   "cell_type": "code",
   "execution_count": 4,
   "metadata": {},
   "outputs": [],
   "source": [
    "torino1 = pd.read_csv('./torino_150715.csv')\n",
    "torino2 = pd.read_csv('./torino_250715.csv')\n",
    "torino3 = pd.read_csv('./torino_270615.csv')\n",
    "torino = pd.concat([torino1,torino2,torino3],ignore_index=True) "
   ]
  },
  {
   "cell_type": "code",
   "execution_count": 5,
   "metadata": {},
   "outputs": [],
   "source": [
    "mantova1 = pd.read_csv('./mantova_150715.csv')\n",
    "mantova2 = pd.read_csv('./mantova_250715.csv')\n",
    "mantova3 = pd.read_csv('./mantova_270615.csv')\n",
    "mantova = pd.concat([mantova1,mantova2,mantova3],ignore_index=True) "
   ]
  },
  {
   "cell_type": "code",
   "execution_count": 6,
   "metadata": {},
   "outputs": [],
   "source": [
    "milano1 = pd.read_csv('./milano_150715.csv')\n",
    "milano2 = pd.read_csv('./milano_250715.csv')\n",
    "milano3 = pd.read_csv('./milano_270615.csv')\n",
    "milano = pd.concat([milano1,milano2,milano3],ignore_index=True) "
   ]
  },
  {
   "cell_type": "code",
   "execution_count": 7,
   "metadata": {},
   "outputs": [],
   "source": [
    "ravenna1 = pd.read_csv('./ravenna_150715.csv')\n",
    "ravenna2 = pd.read_csv('./ravenna_250715.csv')\n",
    "ravenna3 = pd.read_csv('./ravenna_270615.csv')\n",
    "ravenna = pd.concat([ravenna1,ravenna2,ravenna3],ignore_index=True)"
   ]
  },
  {
   "cell_type": "code",
   "execution_count": 8,
   "metadata": {},
   "outputs": [],
   "source": [
    "asti1 = pd.read_csv('./asti_150715.csv')\n",
    "asti2 = pd.read_csv('./asti_250715.csv')\n",
    "asti3 = pd.read_csv('./asti_270615.csv')\n",
    "asti = pd.concat([asti1,asti2,asti3],ignore_index=True)"
   ]
  },
  {
   "cell_type": "code",
   "execution_count": 9,
   "metadata": {},
   "outputs": [],
   "source": [
    "bologna1 = pd.read_csv('./bologna_150715.csv')\n",
    "bologna2 = pd.read_csv('./bologna_250715.csv')\n",
    "bologna3 = pd.read_csv('./bologna_270615.csv')\n",
    "bologna = pd.concat([bologna1,bologna2,bologna3],ignore_index=True)"
   ]
  },
  {
   "cell_type": "code",
   "execution_count": 10,
   "metadata": {},
   "outputs": [],
   "source": [
    "piacenza1 = pd.read_csv('./piacenza_150715.csv')\n",
    "piacenza2 = pd.read_csv('./piacenza_250715.csv')\n",
    "piacenza3 = pd.read_csv('./piacenza_270615.csv')\n",
    "piacenza = pd.concat([piacenza1,piacenza2,piacenza3],ignore_index=True)"
   ]
  },
  {
   "cell_type": "code",
   "execution_count": 11,
   "metadata": {},
   "outputs": [],
   "source": [
    "cesena1 = pd.read_csv('./cesena_150715.csv')\n",
    "cesena2 = pd.read_csv('./cesena_250715.csv')\n",
    "cesena3 = pd.read_csv('./cesena_270615.csv')\n",
    "cesena = pd.concat([cesena1,cesena2,cesena3],ignore_index=True)"
   ]
  },
  {
   "cell_type": "code",
   "execution_count": 12,
   "metadata": {},
   "outputs": [],
   "source": [
    "faenza1 = pd.read_csv('./faenza_150715.csv')\n",
    "faenza2 = pd.read_csv('./faenza_250715.csv')\n",
    "faenza3 = pd.read_csv('./faenza_270615.csv')\n",
    "faenza = pd.concat([faenza1,faenza2,faenza3],ignore_index=True)"
   ]
  },
  {
   "cell_type": "code",
   "execution_count": 13,
   "metadata": {},
   "outputs": [
    {
     "data": {
      "text/plain": [
       "10"
      ]
     },
     "execution_count": 13,
     "metadata": {},
     "output_type": "execute_result"
    }
   ],
   "source": [
    "citys = [ferrara,torino,mantova,milano,ravenna,asti,bologna,piacenza,cesena,faenza]\n",
    "len(citys)"
   ]
  },
  {
   "cell_type": "markdown",
   "metadata": {},
   "source": [
    "查看列数"
   ]
  },
  {
   "cell_type": "code",
   "execution_count": 15,
   "metadata": {
    "collapsed": true
   },
   "outputs": [
    {
     "name": "stdout",
     "output_type": "stream",
     "text": [
      "Index(['Unnamed: 0', 'temp', 'humidity', 'pressure', 'description', 'dt',\n",
      "       'wind_speed', 'wind_deg', 'city', 'day', 'dist'],\n",
      "      dtype='object')\n",
      "Index(['Unnamed: 0', 'temp', 'humidity', 'pressure', 'description', 'dt',\n",
      "       'wind_speed', 'wind_deg', 'city', 'day', 'dist'],\n",
      "      dtype='object')\n",
      "Index(['Unnamed: 0', 'temp', 'humidity', 'pressure', 'description', 'dt',\n",
      "       'wind_speed', 'wind_deg', 'city', 'day', 'dist'],\n",
      "      dtype='object')\n",
      "Index(['Unnamed: 0', 'temp', 'humidity', 'pressure', 'description', 'dt',\n",
      "       'wind_speed', 'wind_deg', 'city', 'day', 'dist'],\n",
      "      dtype='object')\n",
      "Index(['Unnamed: 0', 'temp', 'humidity', 'pressure', 'description', 'dt',\n",
      "       'wind_speed', 'wind_deg', 'city', 'day', 'dist'],\n",
      "      dtype='object')\n",
      "Index(['Unnamed: 0', 'temp', 'humidity', 'pressure', 'description', 'dt',\n",
      "       'wind_speed', 'wind_deg', 'city', 'day', 'dist'],\n",
      "      dtype='object')\n",
      "Index(['Unnamed: 0', 'temp', 'humidity', 'pressure', 'description', 'dt',\n",
      "       'wind_speed', 'wind_deg', 'city', 'day', 'dist'],\n",
      "      dtype='object')\n",
      "Index(['Unnamed: 0', 'temp', 'humidity', 'pressure', 'description', 'dt',\n",
      "       'wind_speed', 'wind_deg', 'city', 'day', 'dist'],\n",
      "      dtype='object')\n",
      "Index(['Unnamed: 0', 'temp', 'humidity', 'pressure', 'description', 'dt',\n",
      "       'wind_speed', 'wind_deg', 'city', 'day', 'dist'],\n",
      "      dtype='object')\n",
      "Index(['Unnamed: 0', 'temp', 'humidity', 'pressure', 'description', 'dt',\n",
      "       'wind_speed', 'wind_deg', 'city', 'day', 'dist'],\n",
      "      dtype='object')\n"
     ]
    }
   ],
   "source": [
    "for city in citys:\n",
    "    print(city.columns)"
   ]
  },
  {
   "cell_type": "markdown",
   "metadata": {},
   "source": [
    "去除没用的列"
   ]
  },
  {
   "cell_type": "code",
   "execution_count": 14,
   "metadata": {},
   "outputs": [],
   "source": [
    "for city in citys:\n",
    "    city.drop(labels='Unnamed: 0',axis=1,inplace=True)"
   ]
  },
  {
   "cell_type": "code",
   "execution_count": 15,
   "metadata": {
    "collapsed": true
   },
   "outputs": [
    {
     "name": "stdout",
     "output_type": "stream",
     "text": [
      "Index(['temp', 'humidity', 'pressure', 'description', 'dt', 'wind_speed',\n",
      "       'wind_deg', 'city', 'day', 'dist'],\n",
      "      dtype='object')\n",
      "Index(['temp', 'humidity', 'pressure', 'description', 'dt', 'wind_speed',\n",
      "       'wind_deg', 'city', 'day', 'dist'],\n",
      "      dtype='object')\n",
      "Index(['temp', 'humidity', 'pressure', 'description', 'dt', 'wind_speed',\n",
      "       'wind_deg', 'city', 'day', 'dist'],\n",
      "      dtype='object')\n",
      "Index(['temp', 'humidity', 'pressure', 'description', 'dt', 'wind_speed',\n",
      "       'wind_deg', 'city', 'day', 'dist'],\n",
      "      dtype='object')\n",
      "Index(['temp', 'humidity', 'pressure', 'description', 'dt', 'wind_speed',\n",
      "       'wind_deg', 'city', 'day', 'dist'],\n",
      "      dtype='object')\n",
      "Index(['temp', 'humidity', 'pressure', 'description', 'dt', 'wind_speed',\n",
      "       'wind_deg', 'city', 'day', 'dist'],\n",
      "      dtype='object')\n",
      "Index(['temp', 'humidity', 'pressure', 'description', 'dt', 'wind_speed',\n",
      "       'wind_deg', 'city', 'day', 'dist'],\n",
      "      dtype='object')\n",
      "Index(['temp', 'humidity', 'pressure', 'description', 'dt', 'wind_speed',\n",
      "       'wind_deg', 'city', 'day', 'dist'],\n",
      "      dtype='object')\n",
      "Index(['temp', 'humidity', 'pressure', 'description', 'dt', 'wind_speed',\n",
      "       'wind_deg', 'city', 'day', 'dist'],\n",
      "      dtype='object')\n",
      "Index(['temp', 'humidity', 'pressure', 'description', 'dt', 'wind_speed',\n",
      "       'wind_deg', 'city', 'day', 'dist'],\n",
      "      dtype='object')\n"
     ]
    }
   ],
   "source": [
    "for city in citys:\n",
    "    print(city.columns)"
   ]
  },
  {
   "cell_type": "markdown",
   "metadata": {},
   "source": [
    "显示最高温度与离海远近的关系"
   ]
  },
  {
   "cell_type": "code",
   "execution_count": 16,
   "metadata": {
    "collapsed": true
   },
   "outputs": [
    {
     "data": {
      "text/plain": [
       "Text(0.5,1,'dist-temp')"
      ]
     },
     "execution_count": 16,
     "metadata": {},
     "output_type": "execute_result"
    },
    {
     "data": {
      "image/png": "[encoded data removed]",
      "text/plain": [
       "<matplotlib.figure.Figure at 0x114ad9f0>"
      ]
     },
     "metadata": {},
     "output_type": "display_data"
    }
   ],
   "source": [
    "# 因为描述的是一种关系，所以采用散点图\n",
    "# 一般前者做y轴，后者做x轴\n",
    "# 最高温度应该是所有城市的最高温度\n",
    "max_temps = np.array([city['temp'].max() for city in citys])\n",
    "city_dists = np.array([city['dist'].max() for city in citys])\n",
    "\n",
    "plt.scatter(city_dists,max_temps)\n",
    "plt.xlabel('distance',fontsize=15,color='blue')\n",
    "plt.ylabel('tempreture',fontsize=15,color='blue')\n",
    "plt.title('dist-temp')"
   ]
  },
  {
   "cell_type": "markdown",
   "metadata": {},
   "source": [
    "观察发现，离海近的可以形成一条直线，离海远的也能形成一条直线。\n",
    "\n",
    "首先使用numpy：把列表转换为numpy数组，用于后续计算。\n",
    "\n",
    "分别以100公里和50公里为分界点，划分为离海近和离海远的两组数据"
   ]
  },
  {
   "cell_type": "code",
   "execution_count": 17,
   "metadata": {
    "scrolled": true
   },
   "outputs": [
    {
     "data": {
      "text/plain": [
       "array([ True, False, False, False,  True, False,  True, False,  True,\n",
       "        True])"
      ]
     },
     "metadata": {},
     "output_type": "display_data"
    },
    {
     "data": {
      "text/plain": [
       "array([False,  True,  True,  True, False,  True,  True,  True, False,\n",
       "       False])"
      ]
     },
     "metadata": {},
     "output_type": "display_data"
    }
   ],
   "source": [
    "near_conditon = city_dists<100\n",
    "far_condtion = city_dists>50\n",
    "display(near_conditon,far_condtion)"
   ]
  },
  {
   "cell_type": "code",
   "execution_count": 18,
   "metadata": {},
   "outputs": [
    {
     "data": {
      "text/plain": [
       "array([33.43, 32.79, 33.85, 32.81, 32.74])"
      ]
     },
     "metadata": {},
     "output_type": "display_data"
    },
    {
     "data": {
      "text/plain": [
       "array([34.69, 34.18, 34.81, 34.31, 33.85, 33.92])"
      ]
     },
     "metadata": {},
     "output_type": "display_data"
    },
    {
     "data": {
      "text/plain": [
       "array([47,  8, 71, 14, 37], dtype=int64)"
      ]
     },
     "metadata": {},
     "output_type": "display_data"
    },
    {
     "data": {
      "text/plain": [
       "array([357, 121, 250, 315,  71, 200], dtype=int64)"
      ]
     },
     "metadata": {},
     "output_type": "display_data"
    }
   ],
   "source": [
    "# 读取近海和远海城市的最高温度\n",
    "near_temps = max_temps[near_conditon]\n",
    "far_temps = max_temps[far_condtion]\n",
    "display(near_temps,far_temps)\n",
    "\n",
    "# 读取近海和远海城市的距离\n",
    "near_dists = city_dists[near_conditon]\n",
    "far_dists = city_dists[far_condtion]\n",
    "display(near_dists,far_dists)"
   ]
  },
  {
   "cell_type": "markdown",
   "metadata": {},
   "source": [
    "使用线性回归模型机计算回归参数【机器学习】"
   ]
  },
  {
   "cell_type": "code",
   "execution_count": 19,
   "metadata": {},
   "outputs": [
    {
     "data": {
      "text/plain": [
       "LinearRegression(copy_X=True, fit_intercept=True, n_jobs=1, normalize=False)"
      ]
     },
     "execution_count": 19,
     "metadata": {},
     "output_type": "execute_result"
    }
   ],
   "source": [
    "# 线性回归模型\n",
    "from sklearn.linear_model import LinearRegression\n",
    "# 线性回归器\n",
    "linearRgr = LinearRegression()\n",
    "\n",
    "# 学习（解方程）\n",
    "linearRgr.fit(near_dists.reshape(-1,1),near_temps)"
   ]
  },
  {
   "cell_type": "code",
   "execution_count": 34,
   "metadata": {},
   "outputs": [],
   "source": [
    "# 获取预测数据\n",
    "x_test = np.linspace(near_dists.min()-10,near_dists.max()+10,100).reshape(-1,1)\n",
    "# 使用机器学习模型预测数据\n",
    "near_y_ = linearRgr.predict(x_test)"
   ]
  },
  {
   "cell_type": "code",
   "execution_count": 33,
   "metadata": {},
   "outputs": [],
   "source": [
    "# 以同样的方式预测远海城市的关系\n",
    "linearRgr2 = LinearRegression()\n",
    "linearRgr2.fit(far_dists.reshape(-1,1),far_temps)\n",
    "x_test2 = np.linspace(far_dists.min()-10,far_dists.max()+10,100).reshape(-1,1)\n",
    "far_y_ = linearRgr2.predict(x_test2)"
   ]
  },
  {
   "cell_type": "code",
   "execution_count": 52,
   "metadata": {},
   "outputs": [
    {
     "data": {
      "text/plain": [
       "(100, 1)"
      ]
     },
     "metadata": {},
     "output_type": "display_data"
    },
    {
     "data": {
      "text/plain": [
       "(100,)"
      ]
     },
     "metadata": {},
     "output_type": "display_data"
    },
    {
     "data": {
      "text/plain": [
       "Text(0.5,1,'dist-temp')"
      ]
     },
     "execution_count": 52,
     "metadata": {},
     "output_type": "execute_result"
    },
    {
     "data": {
      "image/png": "[encoded data removed]",
      "text/plain": [
       "<matplotlib.figure.Figure at 0x1454470>"
      ]
     },
     "metadata": {},
     "output_type": "display_data"
    }
   ],
   "source": [
    "display(x_test.shape,near_y_.shape)\n",
    "# 绘制近海城市距离和温度的回归曲线\n",
    "plt.plot(x_test,near_y_,label='near_citys')\n",
    "# 绘制远海城市距离和温度的回归曲线\n",
    "plt.plot(x_test2,far_y_,label='far_citys')\n",
    "plt.legend()\n",
    "\n",
    "plt.scatter(city_dists,max_temps)\n",
    "plt.xlabel('distance',fontsize=15,color='blue')\n",
    "plt.ylabel('tempreture',fontsize=15,color='blue')\n",
    "plt.title('dist-temp')"
   ]
  },
  {
   "cell_type": "code",
   "execution_count": 38,
   "metadata": {},
   "outputs": [
    {
     "data": {
      "text/plain": [
       "array([0.0170871])"
      ]
     },
     "execution_count": 38,
     "metadata": {},
     "output_type": "execute_result"
    }
   ],
   "source": [
    "# 获取样本数据x的系数\n",
    "linearRgr.coef_"
   ]
  },
  {
   "cell_type": "code",
   "execution_count": 39,
   "metadata": {},
   "outputs": [
    {
     "data": {
      "text/plain": [
       "32.519116791673056"
      ]
     },
     "execution_count": 39,
     "metadata": {},
     "output_type": "execute_result"
    }
   ],
   "source": [
    "# 获取样本数据的截距\n",
    "linearRgr.intercept_"
   ]
  },
  {
   "cell_type": "code",
   "execution_count": 45,
   "metadata": {},
   "outputs": [
    {
     "data": {
      "text/plain": [
       "(array([[5, 5, 0],\n",
       "        [3, 1, 4],\n",
       "        [4, 6, 9]]), (3, 3))"
      ]
     },
     "execution_count": 45,
     "metadata": {},
     "output_type": "execute_result"
    }
   ],
   "source": [
    "n = np.random.randint(0,10,size=(3,3))\n",
    "n,n.shape"
   ]
  },
  {
   "cell_type": "code",
   "execution_count": 46,
   "metadata": {
    "collapsed": true
   },
   "outputs": [
    {
     "data": {
      "text/plain": [
       "(array([[5],\n",
       "        [5],\n",
       "        [0],\n",
       "        [3],\n",
       "        [1],\n",
       "        [4],\n",
       "        [4],\n",
       "        [6],\n",
       "        [9]]), (9, 1))"
      ]
     },
     "execution_count": 46,
     "metadata": {},
     "output_type": "execute_result"
    }
   ],
   "source": [
    "n1 = n.reshape(-1,1)\n",
    "n1,n1.shape"
   ]
  },
  {
   "cell_type": "markdown",
   "metadata": {
    "collapsed": true
   },
   "source": [
    "查看最低温度与海洋距离的关系"
   ]
  },
  {
   "cell_type": "markdown",
   "metadata": {},
   "source": [
    "最低湿度与海洋距离的关系"
   ]
  },
  {
   "cell_type": "markdown",
   "metadata": {},
   "source": [
    "最高湿度与海洋距离的关系"
   ]
  },
  {
   "cell_type": "markdown",
   "metadata": {},
   "source": [
    "平均湿度与海洋距离的关系"
   ]
  },
  {
   "cell_type": "code",
   "execution_count": 22,
   "metadata": {},
   "outputs": [
    {
     "data": {
      "text/html": [
       "<div>\n",
       "<style scoped>\n",
       "    .dataframe tbody tr th:only-of-type {\n",
       "        vertical-align: middle;\n",
       "    }\n",
       "\n",
       "    .dataframe tbody tr th {\n",
       "        vertical-align: top;\n",
       "    }\n",
       "\n",
       "    .dataframe thead th {\n",
       "        text-align: right;\n",
       "    }\n",
       "</style>\n",
       "<table border=\"1\" class=\"dataframe\">\n",
       "  <thead>\n",
       "    <tr style=\"text-align: right;\">\n",
       "      <th></th>\n",
       "      <th>temp</th>\n",
       "      <th>humidity</th>\n",
       "      <th>pressure</th>\n",
       "      <th>description</th>\n",
       "      <th>dt</th>\n",
       "      <th>wind_speed</th>\n",
       "      <th>wind_deg</th>\n",
       "      <th>city</th>\n",
       "      <th>day</th>\n",
       "      <th>dist</th>\n",
       "    </tr>\n",
       "  </thead>\n",
       "  <tbody>\n",
       "    <tr>\n",
       "      <th>0</th>\n",
       "      <td>30.44</td>\n",
       "      <td>60</td>\n",
       "      <td>1011.0</td>\n",
       "      <td>moderate rain</td>\n",
       "      <td>1436863096</td>\n",
       "      <td>1.03</td>\n",
       "      <td>180.0</td>\n",
       "      <td>Ferrara</td>\n",
       "      <td>2015-07-14 10:38:16</td>\n",
       "      <td>47</td>\n",
       "    </tr>\n",
       "  </tbody>\n",
       "</table>\n",
       "</div>"
      ],
      "text/plain": [
       "    temp  humidity  pressure    description          dt  wind_speed  wind_deg  \\\n",
       "0  30.44        60    1011.0  moderate rain  1436863096        1.03     180.0   \n",
       "\n",
       "      city                  day  dist  \n",
       "0  Ferrara  2015-07-14 10:38:16    47  "
      ]
     },
     "execution_count": 22,
     "metadata": {},
     "output_type": "execute_result"
    }
   ],
   "source": [
    "ferrara.head(1)"
   ]
  },
  {
   "cell_type": "markdown",
   "metadata": {},
   "source": [
    "思考：模仿最高温度，得到平均湿度与海洋距离的回归曲线【机器学习】"
   ]
  },
  {
   "cell_type": "code",
   "execution_count": 35,
   "metadata": {
    "scrolled": true
   },
   "outputs": [
    {
     "data": {
      "text/plain": [
       "Text(0.5,1,'distance-humidity')"
      ]
     },
     "execution_count": 35,
     "metadata": {},
     "output_type": "execute_result"
    },
    {
     "data": {
      "image/png": "[encoded data removed]",
      "text/plain": [
       "<matplotlib.figure.Figure at 0x153d6c90>"
      ]
     },
     "metadata": {},
     "output_type": "display_data"
    }
   ],
   "source": [
    "# 创建两个算法模型对象，第一个用于学习近海城市，第二个用于学习远海城市\n",
    "linear3 = LinearRegression()\n",
    "linear4 = LinearRegression()\n",
    "\n",
    "# 获取到所有城市的平均湿度\n",
    "mean_humi = np.array([city['humidity'].mean() for city in citys])\n",
    "\n",
    "# 获取近海城市的平均湿度\n",
    "near_hums = mean_humi[near_conditon]\n",
    "near_dists\n",
    "\n",
    "# 获取远海城市的平均湿度\n",
    "far_hums = mean_humi[far_condtion]\n",
    "far_dists\n",
    "\n",
    "# 使用近海和远海城市的距离和温度来对两个算法模型分别训练\n",
    "linear3.fit(near_dists.reshape(-1,1),near_hums)\n",
    "linear4.fit(far_dists.reshape(-1,1),far_hums)\n",
    "\n",
    "# 保留两个模型的预测结果\n",
    "# 预测数据取自于近海城市和远海城市的与海洋距离的范围\n",
    "near_hum_y_ = linear3.predict(x_test.reshape(-1,1))\n",
    "far_hum_y_ = linear4.predict(x_test2.reshape(-1,1))\n",
    "\n",
    "# 绘图展示\n",
    "plt.scatter(city_dists,mean_humi)\n",
    "plt.plot(x_test,near_hum_y_,label='near_hum')\n",
    "plt.plot(x_test2,far_hum_y_,label='far_hum')\n",
    "plt.legend()\n",
    "plt.title('distance-humidity')"
   ]
  },
  {
   "cell_type": "markdown",
   "metadata": {},
   "source": [
    "风向与风速的关系"
   ]
  },
  {
   "cell_type": "code",
   "execution_count": 39,
   "metadata": {},
   "outputs": [
    {
     "data": {
      "text/plain": [
       "Index(['temp', 'humidity', 'pressure', 'description', 'dt', 'wind_speed',\n",
       "       'wind_deg', 'city', 'day', 'dist'],\n",
       "      dtype='object')"
      ]
     },
     "execution_count": 39,
     "metadata": {},
     "output_type": "execute_result"
    }
   ],
   "source": [
    "ferrara.columns"
   ]
  },
  {
   "cell_type": "code",
   "execution_count": 40,
   "metadata": {},
   "outputs": [],
   "source": [
    "speeds = ferrara['wind_speed']\n",
    "degs = ferrara['wind_deg']\n",
    "hums = ferrara['humidity']"
   ]
  },
  {
   "cell_type": "code",
   "execution_count": 38,
   "metadata": {
    "collapsed": true
   },
   "outputs": [
    {
     "data": {
      "text/plain": [
       "<matplotlib.collections.PathCollection at 0x155c4ed0>"
      ]
     },
     "execution_count": 38,
     "metadata": {},
     "output_type": "execute_result"
    },
    {
     "data": {
      "image/png": "[encoded data removed]",
      "text/plain": [
       "<matplotlib.figure.Figure at 0x15578210>"
      ]
     },
     "metadata": {},
     "output_type": "display_data"
    }
   ],
   "source": [
    "plt.scatter(degs,speeds)"
   ]
  },
  {
   "cell_type": "markdown",
   "metadata": {},
   "source": [
    "在子图中，同时比较风向与湿度和风力的关系"
   ]
  },
  {
   "cell_type": "code",
   "execution_count": 47,
   "metadata": {
    "collapsed": true
   },
   "outputs": [
    {
     "data": {
      "text/plain": [
       "Text(0.5,1,'degs-speeds')"
      ]
     },
     "execution_count": 47,
     "metadata": {},
     "output_type": "execute_result"
    },
    {
     "data": {
      "image/png": "[encoded data removed]",
      "text/plain": [
       "<matplotlib.figure.Figure at 0x158fd830>"
      ]
     },
     "metadata": {},
     "output_type": "display_data"
    }
   ],
   "source": [
    "plt.figure(figsize=(5,6))\n",
    "axes1 = plt.subplot(2,1,1)\n",
    "axes1.scatter(degs,hums,color='orange')\n",
    "axes1.set_title('degs-hums')\n",
    "\n",
    "\n",
    "axes2 = plt.subplot(2,1,2)\n",
    "axes2.scatter(degs,speeds)\n",
    "axes2.set_title('degs-speeds',color='blue')"
   ]
  },
  {
   "cell_type": "markdown",
   "metadata": {},
   "source": [
    "由于风向是360度，我们可以考虑使用玫瑰图（极坐标条形图）"
   ]
  },
  {
   "cell_type": "code",
   "execution_count": 72,
   "metadata": {},
   "outputs": [],
   "source": [
    "# city 是要研究的城市\n",
    "# info 是要研究与风向相关的指标\n",
    "def show_rose(city,info):\n",
    "    plt.axes(polar=True)\n",
    "\n",
    "    # 把全年的风向分成8个方向，求每个风向的风速平均值\n",
    "    index = np.linspace(0,2*np.pi,8,endpoint=False)\n",
    "\n",
    "    # 0-45\n",
    "    ave_speeds = []\n",
    "    for angle in np.arange(0,360,45):\n",
    "        condition = (city['wind_deg'] < angle+45) & (city['wind_deg'] >= angle)\n",
    "        ave_speed = city[info][condition].mean()\n",
    "        if ave_speed is np.nan:\n",
    "            ave_speeds.append(0)\n",
    "        else:\n",
    "            ave_speeds.append(ave_speed)\n",
    "\n",
    "    colors = np.random.random(size=(8,3))\n",
    "    plt.bar(x=index,height=ave_speeds,width=0.8,color=colors)"
   ]
  },
  {
   "cell_type": "code",
   "execution_count": 74,
   "metadata": {
    "collapsed": true
   },
   "outputs": [
    {
     "data": {
      "image/png": "[encoded data removed]",
      "text/plain": [
       "<matplotlib.figure.Figure at 0x15780cf0>"
      ]
     },
     "metadata": {},
     "output_type": "display_data"
    }
   ],
   "source": [
    "# 米兰的风向和湿度的关系\n",
    "show_rose(milano,'humidity')"
   ]
  },
  {
   "cell_type": "code",
   "execution_count": 75,
   "metadata": {
    "collapsed": true
   },
   "outputs": [
    {
     "data": {
      "image/png": "[encoded data removed]",
      "text/plain": [
       "<matplotlib.figure.Figure at 0x6241230>"
      ]
     },
     "metadata": {},
     "output_type": "display_data"
    }
   ],
   "source": [
    "show_rose(milano,'wind_speed')"
   ]
  },
  {
   "cell_type": "markdown",
   "metadata": {},
   "source": [
    "首先自定义一个画图函数"
   ]
  },
  {
   "cell_type": "markdown",
   "metadata": {},
   "source": [
    "用numpy创建一个直方图，将360度划分为8个面元，将数据分类到这8个面元中"
   ]
  },
  {
   "cell_type": "markdown",
   "metadata": {
    "collapsed": true
   },
   "source": [
    "计算米兰各个方向上的风速"
   ]
  },
  {
   "cell_type": "markdown",
   "metadata": {},
   "source": [
    "将各个方向的风速保存在列表中"
   ]
  },
  {
   "cell_type": "markdown",
   "metadata": {},
   "source": [
    "画出各个方向的风速"
   ]
  },
  {
   "cell_type": "markdown",
   "metadata": {},
   "source": [
    "将上面步骤写成函数"
   ]
  }
 ],
 "metadata": {
  "kernelspec": {
   "display_name": "Python 3",
   "language": "python",
   "name": "python3"
  },
  "language_info": {
   "codemirror_mode": {
    "name": "ipython",
    "version": 3
   },
   "file_extension": ".py",
   "mimetype": "text/x-python",
   "name": "python",
   "nbconvert_exporter": "python",
   "pygments_lexer": "ipython3",
   "version": "3.6.2"
  }
 },
 "nbformat": 4,
 "nbformat_minor": 1
}
